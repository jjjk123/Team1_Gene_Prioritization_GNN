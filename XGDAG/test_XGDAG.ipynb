{
  "cells": [
    {
      "cell_type": "code",
      "execution_count": 4,
      "metadata": {
        "colab": {
          "base_uri": "https://localhost:8080/"
        },
        "id": "FHLk7j9qKI6D",
        "outputId": "ca804fc4-8054-44ae-899b-56af87bdf590"
      },
      "outputs": [
        {
          "name": "stdout",
          "output_type": "stream",
          "text": [
            "Cloning into 'XGDAG'...\n",
            "remote: Enumerating objects: 2849, done.\u001b[K\n",
            "remote: Counting objects: 100% (79/79), done.\u001b[K\n",
            "remote: Compressing objects: 100% (63/63), done.\u001b[K\n",
            "remote: Total 2849 (delta 30), reused 49 (delta 15), pack-reused 2770 (from 1)\u001b[K\n",
            "Receiving objects: 100% (2849/2849), 210.71 MiB | 19.37 MiB/s, done.\n",
            "Resolving deltas: 100% (1167/1167), done.\n",
            "Updating files: 100% (1360/1360), done.\n"
          ]
        }
      ],
      "source": [
        "!git clone https://github.com/GiDeCarlo/XGDAG.git\n",
        "%cd /content/XGDAG"
      ]
    },
    {
      "cell_type": "code",
      "execution_count": 5,
      "metadata": {
        "id": "ifdgl-EMLD1n"
      },
      "outputs": [],
      "source": [
        "### How to fix XGDAG\n",
        "!touch XGDAG/SubgraphX/__init__.py\n",
        "!sed -i 's/from SubgraphXshapley/from .SubgraphXshapley/' XGDAG/SubgraphX/SubgraphX.py"
      ]
    },
    {
      "cell_type": "code",
      "execution_count": 8,
      "metadata": {
        "colab": {
          "base_uri": "https://localhost:8080/"
        },
        "id": "1Ap5pCP-RK5W",
        "outputId": "6449bf37-01aa-43e4-c617-57d8f301b563"
      },
      "outputs": [
        {
          "name": "stdout",
          "output_type": "stream",
          "text": [
            "[+] Training C0009402\n",
            "[+] Reading graph...ok\n",
            "/content/XGDAG/CreateDatasetv2_binary_diamond.py:81: FutureWarning: A value is trying to be set on a copy of a DataFrame or Series through chained assignment using an inplace method.\n",
            "The behavior will change in pandas 3.0. This inplace method will never work because the intermediate object on which we are setting values always behaves as a copy.\n",
            "\n",
            "For example, when doing 'df[col].method(value, inplace=True)', try using 'df.method({col: value}, inplace=True)' or df[col] = df[col].method(value) instead, to perform the operation inplace on the original object.\n",
            "\n",
            "\n",
            "  nedbit_scores[\"label\"].replace(to_replace = 1, value = \"P\", inplace = True)\n",
            "[+] Creating dataset...ok\n",
            "[i] Elapsed time: 13.926\n",
            "  0% 0/40001 [00:00<?, ?it/s][Epoch: 0000] train loss: 0.5769, train acc: 0.9214, val loss: 0.0927, val acc: 0.9965  (best train acc: 0.9214, best val acc: 0.9965, best train loss: 0.5769  @ epoch 0 )\n",
            "  0% 20/40001 [00:23<11:32:26,  1.04s/it][Epoch: 0020] train loss: 0.0599, train acc: 0.9921, val loss: 0.0284, val acc: 0.9965  (best train acc: 0.9934, best val acc: 0.9965, best train loss: 0.0599  @ epoch 20 )\n",
            "  0% 35/40001 [00:39<12:32:43,  1.13s/it]\n",
            "Traceback (most recent call last):\n",
            "  File \"/content/XGDAG/TrainerScript.py\", line 39, in <module>\n",
            "    trainGNN(disease_Id, mode='binary')\n",
            "  File \"/content/XGDAG/TrainerScript.py\", line 30, in trainGNN\n",
            "    preds = train(model, dataset, epochs, lr, weight_decay, classes, model_name)\n",
            "            ^^^^^^^^^^^^^^^^^^^^^^^^^^^^^^^^^^^^^^^^^^^^^^^^^^^^^^^^^^^^^^^^^^^^\n",
            "  File \"/content/XGDAG/GNNTrain.py\", line 52, in train\n",
            "    train_loss.backward()\n",
            "  File \"/usr/local/lib/python3.11/dist-packages/torch/_tensor.py\", line 581, in backward\n",
            "    torch.autograd.backward(\n",
            "  File \"/usr/local/lib/python3.11/dist-packages/torch/autograd/__init__.py\", line 347, in backward\n",
            "    _engine_run_backward(\n",
            "  File \"/usr/local/lib/python3.11/dist-packages/torch/autograd/graph.py\", line 825, in _engine_run_backward\n",
            "    return Variable._execution_engine.run_backward(  # Calls into the C++ engine to run the backward pass\n",
            "           ^^^^^^^^^^^^^^^^^^^^^^^^^^^^^^^^^^^^^^^^^^^^^^^^^^^^^^^^^^^^^^^^^^^^^^^^^^^^^^^^^^^^^^^^^^^^^^\n",
            "KeyboardInterrupt\n"
          ]
        }
      ],
      "source": [
        "!python TrainerScript.py -h"
      ]
    },
    {
      "cell_type": "code",
      "execution_count": 6,
      "metadata": {
        "colab": {
          "base_uri": "https://localhost:8080/"
        },
        "id": "vy_zOl9o1pKA",
        "outputId": "98dcdc6b-5253-43bf-e4e5-77dea58143e8"
      },
      "outputs": [
        {
          "name": "stdout",
          "output_type": "stream",
          "text": [
            "/content/XGDAG\n",
            "/content/XGDAG\n",
            "[i] Computing the ranking for ['C0006142'] ( 1 ) disease(s).\n",
            "[i] Starting C0006142 with method gnnexplainer\n",
            "[+] A raking for disease C0006142 has already been computed with gnnexplainer. Do you want to overwrite the old ranking? (y|n) y\n",
            "[+] Reading graph...ok\n",
            "[+] Creating dataset...Traceback (most recent call last):\n",
            "  File \"/content/XGDAG/ComputeRankingScript.py\", line 145, in <module>\n",
            "    ranking(disease_Id, METHOD, num_cpus, filename, modality)\n",
            "  File \"/content/XGDAG/ComputeRankingScript.py\", line 62, in ranking\n",
            "    dataset, G = get_dataset_from_graph(graph_path, disease_Id, quartile=False, from_diamond=True)\n",
            "                 ^^^^^^^^^^^^^^^^^^^^^^^^^^^^^^^^^^^^^^^^^^^^^^^^^^^^^^^^^^^^^^^^^^^^^^^^^^^^^^^^^\n",
            "  File \"/content/XGDAG/CreateDatasetv2.py\", line 72, in get_dataset_from_graph\n",
            "    seed_genes = pd.read_csv(path_to_seed_genes, header=None, sep=' ')\n",
            "                 ^^^^^^^^^^^^^^^^^^^^^^^^^^^^^^^^^^^^^^^^^^^^^^^^^^^^^\n",
            "  File \"/usr/local/lib/python3.11/dist-packages/pandas/io/parsers/readers.py\", line 1026, in read_csv\n",
            "    return _read(filepath_or_buffer, kwds)\n",
            "           ^^^^^^^^^^^^^^^^^^^^^^^^^^^^^^^\n",
            "  File \"/usr/local/lib/python3.11/dist-packages/pandas/io/parsers/readers.py\", line 620, in _read\n",
            "    parser = TextFileReader(filepath_or_buffer, **kwds)\n",
            "             ^^^^^^^^^^^^^^^^^^^^^^^^^^^^^^^^^^^^^^^^^^\n",
            "  File \"/usr/local/lib/python3.11/dist-packages/pandas/io/parsers/readers.py\", line 1620, in __init__\n",
            "    self._engine = self._make_engine(f, self.engine)\n",
            "                   ^^^^^^^^^^^^^^^^^^^^^^^^^^^^^^^^^\n",
            "  File \"/usr/local/lib/python3.11/dist-packages/pandas/io/parsers/readers.py\", line 1880, in _make_engine\n",
            "    self.handles = get_handle(\n",
            "                   ^^^^^^^^^^^\n",
            "  File \"/usr/local/lib/python3.11/dist-packages/pandas/io/common.py\", line 873, in get_handle\n",
            "    handle = open(\n",
            "             ^^^^^\n",
            "FileNotFoundError: [Errno 2] No such file or directory: 'Datasets/Diamond_dataset/C0006142_seed_genes.txt'\n"
          ]
        }
      ],
      "source": [
        "!python ComputeRankingScript.py ataxia gnnexplainer 1"
      ]
    }
  ],
  "metadata": {
    "colab": {
      "provenance": []
    },
    "kernelspec": {
      "display_name": "Python 3",
      "name": "python3"
    },
    "language_info": {
      "name": "python"
    }
  },
  "nbformat": 4,
  "nbformat_minor": 0
}
